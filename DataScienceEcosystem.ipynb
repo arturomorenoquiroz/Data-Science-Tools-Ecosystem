{
 "cells": [
  {
   "cell_type": "markdown",
   "metadata": {},
   "source": [
    "<center>\n",
    "    <img src=\"https://cf-courses-data.s3.us.cloud-object-storage.appdomain.cloud/IBMDeveloperSkillsNetwork-DS0105EN-SkillsNetwork/labs/Module2/images/SN_web_lightmode.png\" width=\"300\" alt=\"cognitiveclass.ai logo\">\n",
    "</center>\n"
   ]
  },
  {
   "cell_type": "markdown",
   "metadata": {},
   "source": [
    "#### Add your code below following the instructions given in the course\n"
   ]
  },
  {
   "cell_type": "markdown",
   "metadata": {},
   "source": [
    "# Data Science Tools and Ecosystem\n"
   ]
  },
  {
   "cell_type": "markdown",
   "metadata": {},
   "source": [
    "This notebook provides a summary of Data Science Tools and the Ecosystem."
   ]
  },
  {
   "cell_type": "markdown",
   "metadata": {},
   "source": [
    "Objectives:  \n",
    "- List popular languages for Data Science\n",
    "- List popular librariesmost commonly used\n",
    "- Create basic arithmetic operations in Python"
   ]
  },
  {
   "cell_type": "markdown",
   "metadata": {},
   "source": [
    "Some of the popular languages that Data Scientists use are:"
   ]
  },
  {
   "cell_type": "markdown",
   "metadata": {},
   "source": [
    "1. Python\n",
    "2. Go\n",
    "3. R"
   ]
  },
  {
   "cell_type": "markdown",
   "metadata": {},
   "source": [
    "Some of the commonly used libraries used by Data Scientists include:"
   ]
  },
  {
   "cell_type": "markdown",
   "metadata": {},
   "source": [
    "### Python Libraries:\n",
    "- **Pandas**: Data manipulation and analysis.\n",
    "- **NumPy**: Numerical computations.\n",
    "- **Matplotlib**: Data visualization.\n",
    "- **Seaborn**: Statistical data visualization.\n",
    "- **Scikit-learn**: Machine learning.\n",
    "- **TensorFlow**: Deep learning and neural networks.\n",
    "- **Keras**: Simplified neural network building.\n",
    "- **PyTorch**: Deep learning framework.\n",
    "- **Statsmodels**: Statistical modeling and hypothesis testing.\n",
    "- **XGBoost**: Gradient boosting for machine learning."
   ]
  },
  {
   "cell_type": "markdown",
   "metadata": {},
   "source": [
    "### GO Libraries:\n",
    "- **gonum:** A set of numerical libraries for scientific computing, including matrix operations and statistical analysis.\n",
    "[gonum - GitHub](https://github.com/gonum/gonum)  \n",
    "- **gorgonia:** A library for building and training machine learning models, especially neural networks.\n",
    "[gorgonia - GitHub](https://github.com/gorgonia/gorgonia)\n",
    "- **go-ml** A machine learning library with tools for data analysis and predictive modeling.\n",
    "[go-ml - GitHub](https://github.com/sjwhitworth/golearn)  \n",
    "- **go-chart:** A simple library for creating charts and graphs.\n",
    "[go-chart - GitHub](https://github.com/wcharczuk/go-chart)  \n",
    "- **plotinum:** A library for creating high-quality plots and visualizations.\n",
    "[plotinum - GitHub](https://github.com/gonum/plot)  \n",
    "- **hector:** A library for Bayesian analysis and probabilistic programming.\n",
    "[hector - GitHub](https://github.com/hectorlib/hector)  \n",
    "- **gonum/stat:** Statistical functions for descriptive statistics, regression, and probability distributions.\n",
    "[gonum/stat - GitHub](https://github.com/gonum/stat)  \n",
    "- **dataframe-go:** A library for manipulating tabular data in a data frame structure.\n",
    "[dataframe-go - GitHub](https://github.com/rocketlaunchr/dataframe-go)  \n",
    "- **go-sqlite3:** An SQLite driver for Go, widely used for database operations in data applications.\n",
    "[go-sqlite3 - GitHub](https://github.com/mattn/go-sqlite3)  \n",
    "- **goml:** A lightweight library for machine learning and streaming data analysis.\n",
    "[goml - GitHub](https://github.com/cdipaolo/goml)"
   ]
  },
  {
   "cell_type": "markdown",
   "metadata": {},
   "source": [
    "### R Libraries:\n",
    "- **ggplot2:** Data visualization.\n",
    "- **dplyr:** Data manipulation.\n",
    "- **tidyr:** Data tidying.\n",
    "- **caret:** Machine learning workflows.\n",
    "- **randomForest:** Random forest models.\n",
    "- **shiny:** Interactive web apps for data analysis.\n",
    "- **lubridate:** Working with dates and times.\n",
    "- **forecast:** Time series forecasting.\n",
    "- **data.table:** High-performance data manipulation.\n",
    "- **stringr:** String manipulation and regular expressions."
   ]
  },
  {
   "cell_type": "markdown",
   "metadata": {},
   "source": [
    "|Data Science Tools|\n",
    "|-|\n",
    "|Jupyter Notebook|\n",
    "|RStudio|\n",
    "|Apache Zeppelin|"
   ]
  },
  {
   "cell_type": "markdown",
   "metadata": {},
   "source": [
    "### Below are a few examples of evaluating arithmetic expressions in Python"
   ]
  },
  {
   "cell_type": "code",
   "execution_count": 1,
   "metadata": {},
   "outputs": [
    {
     "name": "stdout",
     "output_type": "stream",
     "text": [
      "17\n"
     ]
    }
   ],
   "source": [
    "# This a simple arithmetic expression to multiply then add integers\n",
    "op = (3*4)+5\n",
    "print(op)"
   ]
  },
  {
   "cell_type": "code",
   "execution_count": 2,
   "metadata": {},
   "outputs": [
    {
     "name": "stdout",
     "output_type": "stream",
     "text": [
      "3.3333333333333335\n"
     ]
    }
   ],
   "source": [
    "#This will convert 200 minutes to hours by diving by 60\n",
    "hr = 200/60\n",
    "print(hr)"
   ]
  },
  {
   "cell_type": "markdown",
   "metadata": {},
   "source": [
    "## Author\n",
    "Arturo Moreno\n"
   ]
  },
  {
   "cell_type": "code",
   "execution_count": null,
   "metadata": {},
   "outputs": [],
   "source": []
  }
 ],
 "metadata": {
  "kernelspec": {
   "display_name": "Python 3 (ipykernel)",
   "language": "python",
   "name": "python3"
  },
  "language_info": {
   "codemirror_mode": {
    "name": "ipython",
    "version": 3
   },
   "file_extension": ".py",
   "mimetype": "text/x-python",
   "name": "python",
   "nbconvert_exporter": "python",
   "pygments_lexer": "ipython3",
   "version": "3.11.9"
  }
 },
 "nbformat": 4,
 "nbformat_minor": 4
}
